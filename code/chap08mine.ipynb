{
 "cells": [
  {
   "cell_type": "markdown",
   "metadata": {},
   "source": [
    "# Modeling and Simulation in Python\n",
    "\n",
    "Chapter 8: Pharmacokinetics\n",
    "\n",
    "Copyright 2017 Allen Downey\n",
    "\n",
    "License: [Creative Commons Attribution 4.0 International](https://creativecommons.org/licenses/by/4.0)\n"
   ]
  },
  {
   "cell_type": "code",
   "execution_count": 1,
   "metadata": {
    "collapsed": true
   },
   "outputs": [],
   "source": [
    "# If you want the figures to appear in the notebook, \n",
    "# and you want to interact with them, use\n",
    "# %matplotlib notebook\n",
    "\n",
    "# If you want the figures to appear in the notebook, \n",
    "# and you don't want to interact with them, use\n",
    "# %matplotlib inline\n",
    "\n",
    "# If you want the figures to appear in separate windows, use\n",
    "# %matplotlib qt5\n",
    "\n",
    "# tempo switch from one to another, you have to select Kernel->Restart\n",
    "\n",
    "%matplotlib inline\n",
    "\n",
    "from modsim import *"
   ]
  },
  {
   "cell_type": "markdown",
   "metadata": {},
   "source": [
    "### Data\n",
    "\n",
    "We have data from Pacini and Bergman (1986), \"MINMOD: a computer program to calculate insulin sensitivity and pancreatic responsivity from the frequently sampled intravenous glucose tolerance test\", *Computer Methods and Programs in Biomedicine*, 23: 113-122.."
   ]
  },
  {
   "cell_type": "code",
   "execution_count": 2,
   "metadata": {},
   "outputs": [
    {
     "data": {
      "text/html": [
       "<div>\n",
       "<style>\n",
       "    .dataframe thead tr:only-child th {\n",
       "        text-align: right;\n",
       "    }\n",
       "\n",
       "    .dataframe thead th {\n",
       "        text-align: left;\n",
       "    }\n",
       "\n",
       "    .dataframe tbody tr th {\n",
       "        vertical-align: top;\n",
       "    }\n",
       "</style>\n",
       "<table border=\"1\" class=\"dataframe\">\n",
       "  <thead>\n",
       "    <tr style=\"text-align: right;\">\n",
       "      <th></th>\n",
       "      <th>glucose</th>\n",
       "      <th>insulin</th>\n",
       "    </tr>\n",
       "    <tr>\n",
       "      <th>time</th>\n",
       "      <th></th>\n",
       "      <th></th>\n",
       "    </tr>\n",
       "  </thead>\n",
       "  <tbody>\n",
       "    <tr>\n",
       "      <th>0</th>\n",
       "      <td>92</td>\n",
       "      <td>11</td>\n",
       "    </tr>\n",
       "    <tr>\n",
       "      <th>2</th>\n",
       "      <td>350</td>\n",
       "      <td>26</td>\n",
       "    </tr>\n",
       "    <tr>\n",
       "      <th>4</th>\n",
       "      <td>287</td>\n",
       "      <td>130</td>\n",
       "    </tr>\n",
       "    <tr>\n",
       "      <th>6</th>\n",
       "      <td>251</td>\n",
       "      <td>85</td>\n",
       "    </tr>\n",
       "    <tr>\n",
       "      <th>8</th>\n",
       "      <td>240</td>\n",
       "      <td>51</td>\n",
       "    </tr>\n",
       "    <tr>\n",
       "      <th>10</th>\n",
       "      <td>216</td>\n",
       "      <td>49</td>\n",
       "    </tr>\n",
       "    <tr>\n",
       "      <th>12</th>\n",
       "      <td>211</td>\n",
       "      <td>45</td>\n",
       "    </tr>\n",
       "    <tr>\n",
       "      <th>14</th>\n",
       "      <td>205</td>\n",
       "      <td>41</td>\n",
       "    </tr>\n",
       "    <tr>\n",
       "      <th>16</th>\n",
       "      <td>196</td>\n",
       "      <td>35</td>\n",
       "    </tr>\n",
       "    <tr>\n",
       "      <th>19</th>\n",
       "      <td>192</td>\n",
       "      <td>30</td>\n",
       "    </tr>\n",
       "    <tr>\n",
       "      <th>22</th>\n",
       "      <td>172</td>\n",
       "      <td>30</td>\n",
       "    </tr>\n",
       "    <tr>\n",
       "      <th>27</th>\n",
       "      <td>163</td>\n",
       "      <td>27</td>\n",
       "    </tr>\n",
       "    <tr>\n",
       "      <th>32</th>\n",
       "      <td>142</td>\n",
       "      <td>30</td>\n",
       "    </tr>\n",
       "    <tr>\n",
       "      <th>42</th>\n",
       "      <td>124</td>\n",
       "      <td>22</td>\n",
       "    </tr>\n",
       "    <tr>\n",
       "      <th>52</th>\n",
       "      <td>105</td>\n",
       "      <td>15</td>\n",
       "    </tr>\n",
       "    <tr>\n",
       "      <th>62</th>\n",
       "      <td>92</td>\n",
       "      <td>15</td>\n",
       "    </tr>\n",
       "    <tr>\n",
       "      <th>72</th>\n",
       "      <td>84</td>\n",
       "      <td>11</td>\n",
       "    </tr>\n",
       "    <tr>\n",
       "      <th>82</th>\n",
       "      <td>77</td>\n",
       "      <td>10</td>\n",
       "    </tr>\n",
       "    <tr>\n",
       "      <th>92</th>\n",
       "      <td>82</td>\n",
       "      <td>8</td>\n",
       "    </tr>\n",
       "    <tr>\n",
       "      <th>102</th>\n",
       "      <td>81</td>\n",
       "      <td>11</td>\n",
       "    </tr>\n",
       "    <tr>\n",
       "      <th>122</th>\n",
       "      <td>82</td>\n",
       "      <td>7</td>\n",
       "    </tr>\n",
       "    <tr>\n",
       "      <th>142</th>\n",
       "      <td>82</td>\n",
       "      <td>8</td>\n",
       "    </tr>\n",
       "    <tr>\n",
       "      <th>162</th>\n",
       "      <td>85</td>\n",
       "      <td>8</td>\n",
       "    </tr>\n",
       "    <tr>\n",
       "      <th>182</th>\n",
       "      <td>90</td>\n",
       "      <td>7</td>\n",
       "    </tr>\n",
       "  </tbody>\n",
       "</table>\n",
       "</div>"
      ],
      "text/plain": [
       "      glucose  insulin\n",
       "time                  \n",
       "0          92       11\n",
       "2         350       26\n",
       "4         287      130\n",
       "6         251       85\n",
       "8         240       51\n",
       "10        216       49\n",
       "12        211       45\n",
       "14        205       41\n",
       "16        196       35\n",
       "19        192       30\n",
       "22        172       30\n",
       "27        163       27\n",
       "32        142       30\n",
       "42        124       22\n",
       "52        105       15\n",
       "62         92       15\n",
       "72         84       11\n",
       "82         77       10\n",
       "92         82        8\n",
       "102        81       11\n",
       "122        82        7\n",
       "142        82        8\n",
       "162        85        8\n",
       "182        90        7"
      ]
     },
     "execution_count": 2,
     "metadata": {},
     "output_type": "execute_result"
    }
   ],
   "source": [
    "data = pd.read_csv('glucose_insulin.csv', index_col='time')\n",
    "data"
   ]
  },
  {
   "cell_type": "markdown",
   "metadata": {},
   "source": [
    "Here's what the glucose time series looks like."
   ]
  },
  {
   "cell_type": "code",
   "execution_count": 3,
   "metadata": {},
   "outputs": [
    {
     "data": {
      "image/png": "[encoded data removed]",
      "text/plain": [
       "<matplotlib.figure.Figure at 0x224599a9320>"
      ]
     },
     "metadata": {},
     "output_type": "display_data"
    }
   ],
   "source": [
    "plot(data.glucose, 'bo', label='glucose')\n",
    "decorate(xlabel='Time (min)',\n",
    "         ylabel='Concentration (mg/dL)')"
   ]
  },
  {
   "cell_type": "markdown",
   "metadata": {},
   "source": [
    "And the insulin time series."
   ]
  },
  {
   "cell_type": "code",
   "execution_count": 4,
   "metadata": {},
   "outputs": [
    {
     "data": {
      "image/png": "[encoded data removed]",
      "text/plain": [
       "<matplotlib.figure.Figure at 0x22459cb6a58>"
      ]
     },
     "metadata": {},
     "output_type": "display_data"
    }
   ],
   "source": [
    "plot(data.insulin, 'go', label='insulin')\n",
    "decorate(xlabel='Time (min)',\n",
    "         ylabel='Concentration ($\\mu$U/mL)')"
   ]
  },
  {
   "cell_type": "markdown",
   "metadata": {},
   "source": [
    "For the book, I put them in a single figure, using `subplot`"
   ]
  },
  {
   "cell_type": "code",
   "execution_count": 5,
   "metadata": {},
   "outputs": [
    {
     "name": "stdout",
     "output_type": "stream",
     "text": [
      "Saving figure to file chap08-fig01.pdf\n"
     ]
    },
    {
     "data": {
      "image/png": "[encoded data removed]",
      "text/plain": [
       "<matplotlib.figure.Figure at 0x22459faa828>"
      ]
     },
     "metadata": {},
     "output_type": "display_data"
    }
   ],
   "source": [
    "subplot(2, 1, 1)\n",
    "plot(data.glucose, 'bo', label='glucose')\n",
    "decorate(ylabel='mg/dL')\n",
    "\n",
    "subplot(2, 1, 2)\n",
    "plot(data.insulin, 'go', label='insulin')\n",
    "decorate(xlabel='Time (min)',\n",
    "         ylabel='$\\mu$U/mL')\n",
    "\n",
    "savefig('chap08-fig01.pdf')"
   ]
  },
  {
   "cell_type": "markdown",
   "metadata": {},
   "source": [
    "### Interpolation\n",
    "\n",
    "We have measurements of insulin concentration at discrete points in time, but we need to estimate it at intervening points.  We'll use `interpolate`, which is a wrapper for `scipy.interpolate.interp1d`"
   ]
  },
  {
   "cell_type": "code",
   "execution_count": 6,
   "metadata": {
    "collapsed": true
   },
   "outputs": [],
   "source": [
    "%psource interpolate"
   ]
  },
  {
   "cell_type": "markdown",
   "metadata": {},
   "source": [
    "The return value from `interpolate` is a function."
   ]
  },
  {
   "cell_type": "code",
   "execution_count": 7,
   "metadata": {
    "collapsed": true
   },
   "outputs": [],
   "source": [
    "I = interpolate(data.insulin, kind=\"cubic\")"
   ]
  },
  {
   "cell_type": "markdown",
   "metadata": {},
   "source": [
    "We can use the result, `I`, to estimate the insulin level at any point in time."
   ]
  },
  {
   "cell_type": "code",
   "execution_count": 8,
   "metadata": {
    "scrolled": true
   },
   "outputs": [
    {
     "data": {
      "text/plain": [
       "array(61.318215880671474)"
      ]
     },
     "execution_count": 8,
     "metadata": {},
     "output_type": "execute_result"
    }
   ],
   "source": [
    "I(7)"
   ]
  },
  {
   "cell_type": "markdown",
   "metadata": {},
   "source": [
    "`I` can also take an array of time and return an array of estimates, which we can plot."
   ]
  },
  {
   "cell_type": "code",
   "execution_count": 9,
   "metadata": {},
   "outputs": [
    {
     "name": "stdout",
     "output_type": "stream",
     "text": [
      "Saving figure to file chap08-fig02.pdf\n"
     ]
    },
    {
     "data": {
      "image/png": "[encoded data removed]",
      "text/plain": [
       "<matplotlib.figure.Figure at 0x2245a24a860>"
      ]
     },
     "metadata": {},
     "output_type": "display_data"
    }
   ],
   "source": [
    "ts = linrange(0, 182, 1)\n",
    "\n",
    "plot(data.insulin, 'go', label='insulin data')\n",
    "plot(ts, I(ts), color='green', label='interpolated')\n",
    "\n",
    "decorate(xlabel='Time (min)',\n",
    "         ylabel='Concentration ($\\mu$U/mL)')\n",
    "\n",
    "savefig('chap08-fig02.pdf')"
   ]
  },
  {
   "cell_type": "markdown",
   "metadata": {},
   "source": [
    "**Exercise:** [Read the documentation](https://docs.scipy.org/doc/scipy/reference/generated/scipy.interpolate.interp1d.html) of `scipy.interpolate.interp1d`.  Pass a keyword argument to `interpolate` to specify one of the other kinds of interpolation, and run the code again to see what it looks like. "
   ]
  },
  {
   "cell_type": "markdown",
   "metadata": {},
   "source": [
    "### The glucose minimal model\n",
    "\n",
    "I'll cheat by starting with parameters that fit the data roughly; then we'll see how to improve them."
   ]
  },
  {
   "cell_type": "code",
   "execution_count": 10,
   "metadata": {
    "collapsed": true
   },
   "outputs": [],
   "source": [
    "k1 = 0.03\n",
    "k2 = 0.02\n",
    "k3 = 1e-05\n",
    "G0 = 290"
   ]
  },
  {
   "cell_type": "markdown",
   "metadata": {},
   "source": [
    "To estimate basal levels, we'll use the concentrations at `t=0`."
   ]
  },
  {
   "cell_type": "code",
   "execution_count": 11,
   "metadata": {
    "collapsed": true
   },
   "outputs": [],
   "source": [
    "Gb = data.glucose[0]\n",
    "Ib = data.insulin[0]"
   ]
  },
  {
   "cell_type": "markdown",
   "metadata": {},
   "source": [
    "In the initial conditions, `X(0)=0` and `G(0)=G0`, where `G0` is one of the parameters we'll choose."
   ]
  },
  {
   "cell_type": "code",
   "execution_count": 12,
   "metadata": {
    "collapsed": true
   },
   "outputs": [],
   "source": [
    "init = State(G=G0, X=0)"
   ]
  },
  {
   "cell_type": "markdown",
   "metadata": {},
   "source": [
    "Here's the system object with all parameters and the interpolation object `I`."
   ]
  },
  {
   "cell_type": "code",
   "execution_count": 13,
   "metadata": {
    "collapsed": true
   },
   "outputs": [],
   "source": [
    "system = System(init=init, \n",
    "                k1=k1, k2=k2, k3=k3,\n",
    "                I=I, Gb=Gb, Ib=Ib,\n",
    "                t0=0, t_end=182, dt=2)"
   ]
  },
  {
   "cell_type": "markdown",
   "metadata": {},
   "source": [
    "And here's the update function.  Using `unpack` to make the system variables accessible without using dot notation, which makes the translation of the differential equations more readable and checkable."
   ]
  },
  {
   "cell_type": "code",
   "execution_count": 14,
   "metadata": {
    "collapsed": true
   },
   "outputs": [],
   "source": [
    "def update_func(state, t, system):\n",
    "    \"\"\"Updates the glucose minimal model.\n",
    "    \n",
    "    state: State object\n",
    "    t: time in min\n",
    "    system: System object\n",
    "    \n",
    "    returns: State object\n",
    "    \"\"\"\n",
    "    G, X = state\n",
    "    unpack(system)\n",
    "        \n",
    "    dGdt = -k1 * (G - Gb) - X*G\n",
    "    dXdt = k3 * (I(t) - Ib) - k2 * X\n",
    "    \n",
    "    G += dGdt * dt\n",
    "    X += dXdt * dt\n",
    "\n",
    "    return State(G=G, X=X)"
   ]
  },
  {
   "cell_type": "markdown",
   "metadata": {},
   "source": [
    "Before running the simulation, it is always a good idea to test the update function using the initial conditions.  In this case we can veryify that the results are at least qualitatively correct."
   ]
  },
  {
   "cell_type": "code",
   "execution_count": 15,
   "metadata": {},
   "outputs": [
    {
     "data": {
      "text/html": [
       "<div>\n",
       "<style>\n",
       "    .dataframe thead tr:only-child th {\n",
       "        text-align: right;\n",
       "    }\n",
       "\n",
       "    .dataframe thead th {\n",
       "        text-align: left;\n",
       "    }\n",
       "\n",
       "    .dataframe tbody tr th {\n",
       "        vertical-align: top;\n",
       "    }\n",
       "</style>\n",
       "<table border=\"1\" class=\"dataframe\">\n",
       "  <thead>\n",
       "    <tr style=\"text-align: right;\">\n",
       "      <th></th>\n",
       "      <th>value</th>\n",
       "    </tr>\n",
       "  </thead>\n",
       "  <tbody>\n",
       "    <tr>\n",
       "      <th>G</th>\n",
       "      <td>278.12</td>\n",
       "    </tr>\n",
       "    <tr>\n",
       "      <th>X</th>\n",
       "      <td>0.00</td>\n",
       "    </tr>\n",
       "  </tbody>\n",
       "</table>\n",
       "</div>"
      ],
      "text/plain": [
       "G    278.12\n",
       "X      0.00\n",
       "dtype: float64"
      ]
     },
     "execution_count": 15,
     "metadata": {},
     "output_type": "execute_result"
    }
   ],
   "source": [
    "update_func(init, 0, system)"
   ]
  },
  {
   "cell_type": "markdown",
   "metadata": {},
   "source": [
    "Now run simulation is pretty much the same as it always is."
   ]
  },
  {
   "cell_type": "code",
   "execution_count": 16,
   "metadata": {
    "collapsed": true
   },
   "outputs": [],
   "source": [
    "def run_simulation(system, update_func):\n",
    "    \"\"\"Runs a simulation of the system.\n",
    "    \n",
    "    Adds a TimeFrame to `system` as `results`\n",
    "    \n",
    "    system: System object\n",
    "    update_func: function that updates state\n",
    "    \"\"\"\n",
    "    unpack(system)\n",
    "    \n",
    "    frame = TimeFrame(columns=init.index)\n",
    "    frame.loc[t0] = init\n",
    "    ts = linrange(t0, t_end-dt, dt)\n",
    "    \n",
    "    for t in ts:\n",
    "        frame.loc[t+dt] = update_func(frame.loc[t], t, system)\n",
    "    \n",
    "    system.results = frame"
   ]
  },
  {
   "cell_type": "markdown",
   "metadata": {},
   "source": [
    "And here's how we run it.  `%time` is a Jupyter magic command that runs the function and reports its run time."
   ]
  },
  {
   "cell_type": "code",
   "execution_count": 17,
   "metadata": {},
   "outputs": [
    {
     "name": "stdout",
     "output_type": "stream",
     "text": [
      "Wall time: 164 ms\n"
     ]
    }
   ],
   "source": [
    "%time run_simulation(system, update_func)"
   ]
  },
  {
   "cell_type": "markdown",
   "metadata": {},
   "source": [
    "The results are in a `TimeFrame object` with one column per state variable."
   ]
  },
  {
   "cell_type": "code",
   "execution_count": 18,
   "metadata": {},
   "outputs": [
    {
     "data": {
      "text/html": [
       "<div>\n",
       "<style>\n",
       "    .dataframe thead tr:only-child th {\n",
       "        text-align: right;\n",
       "    }\n",
       "\n",
       "    .dataframe thead th {\n",
       "        text-align: left;\n",
       "    }\n",
       "\n",
       "    .dataframe tbody tr th {\n",
       "        vertical-align: top;\n",
       "    }\n",
       "</style>\n",
       "<table border=\"1\" class=\"dataframe\">\n",
       "  <thead>\n",
       "    <tr style=\"text-align: right;\">\n",
       "      <th></th>\n",
       "      <th>G</th>\n",
       "      <th>X</th>\n",
       "    </tr>\n",
       "  </thead>\n",
       "  <tbody>\n",
       "    <tr>\n",
       "      <th>0</th>\n",
       "      <td>290.000000</td>\n",
       "      <td>0.000000</td>\n",
       "    </tr>\n",
       "    <tr>\n",
       "      <th>2</th>\n",
       "      <td>278.120000</td>\n",
       "      <td>0.000000</td>\n",
       "    </tr>\n",
       "    <tr>\n",
       "      <th>4</th>\n",
       "      <td>266.952800</td>\n",
       "      <td>0.000300</td>\n",
       "    </tr>\n",
       "    <tr>\n",
       "      <th>6</th>\n",
       "      <td>256.295460</td>\n",
       "      <td>0.002668</td>\n",
       "    </tr>\n",
       "    <tr>\n",
       "      <th>8</th>\n",
       "      <td>245.070140</td>\n",
       "      <td>0.004041</td>\n",
       "    </tr>\n",
       "    <tr>\n",
       "      <th>10</th>\n",
       "      <td>233.905138</td>\n",
       "      <td>0.004680</td>\n",
       "    </tr>\n",
       "    <tr>\n",
       "      <th>12</th>\n",
       "      <td>223.201651</td>\n",
       "      <td>0.005252</td>\n",
       "    </tr>\n",
       "    <tr>\n",
       "      <th>14</th>\n",
       "      <td>212.984844</td>\n",
       "      <td>0.005722</td>\n",
       "    </tr>\n",
       "    <tr>\n",
       "      <th>16</th>\n",
       "      <td>203.288207</td>\n",
       "      <td>0.006093</td>\n",
       "    </tr>\n",
       "    <tr>\n",
       "      <th>18</th>\n",
       "      <td>194.133461</td>\n",
       "      <td>0.006330</td>\n",
       "    </tr>\n",
       "    <tr>\n",
       "      <th>20</th>\n",
       "      <td>185.547835</td>\n",
       "      <td>0.006474</td>\n",
       "    </tr>\n",
       "    <tr>\n",
       "      <th>22</th>\n",
       "      <td>177.532461</td>\n",
       "      <td>0.006592</td>\n",
       "    </tr>\n",
       "    <tr>\n",
       "      <th>24</th>\n",
       "      <td>170.060094</td>\n",
       "      <td>0.006708</td>\n",
       "    </tr>\n",
       "    <tr>\n",
       "      <th>26</th>\n",
       "      <td>163.095009</td>\n",
       "      <td>0.006797</td>\n",
       "    </tr>\n",
       "    <tr>\n",
       "      <th>28</th>\n",
       "      <td>156.612348</td>\n",
       "      <td>0.006851</td>\n",
       "    </tr>\n",
       "    <tr>\n",
       "      <th>30</th>\n",
       "      <td>150.589660</td>\n",
       "      <td>0.006901</td>\n",
       "    </tr>\n",
       "    <tr>\n",
       "      <th>32</th>\n",
       "      <td>144.995778</td>\n",
       "      <td>0.006977</td>\n",
       "    </tr>\n",
       "    <tr>\n",
       "      <th>34</th>\n",
       "      <td>139.792631</td>\n",
       "      <td>0.007078</td>\n",
       "    </tr>\n",
       "    <tr>\n",
       "      <th>36</th>\n",
       "      <td>134.946072</td>\n",
       "      <td>0.007177</td>\n",
       "    </tr>\n",
       "    <tr>\n",
       "      <th>38</th>\n",
       "      <td>130.432335</td>\n",
       "      <td>0.007248</td>\n",
       "    </tr>\n",
       "    <tr>\n",
       "      <th>40</th>\n",
       "      <td>126.235596</td>\n",
       "      <td>0.007277</td>\n",
       "    </tr>\n",
       "    <tr>\n",
       "      <th>42</th>\n",
       "      <td>122.344305</td>\n",
       "      <td>0.007255</td>\n",
       "    </tr>\n",
       "    <tr>\n",
       "      <th>44</th>\n",
       "      <td>118.748372</td>\n",
       "      <td>0.007185</td>\n",
       "    </tr>\n",
       "    <tr>\n",
       "      <th>46</th>\n",
       "      <td>115.437048</td>\n",
       "      <td>0.007074</td>\n",
       "    </tr>\n",
       "    <tr>\n",
       "      <th>48</th>\n",
       "      <td>112.397635</td>\n",
       "      <td>0.006931</td>\n",
       "    </tr>\n",
       "    <tr>\n",
       "      <th>50</th>\n",
       "      <td>109.615688</td>\n",
       "      <td>0.006766</td>\n",
       "    </tr>\n",
       "    <tr>\n",
       "      <th>52</th>\n",
       "      <td>107.075484</td>\n",
       "      <td>0.006587</td>\n",
       "    </tr>\n",
       "    <tr>\n",
       "      <th>54</th>\n",
       "      <td>104.760387</td>\n",
       "      <td>0.006403</td>\n",
       "    </tr>\n",
       "    <tr>\n",
       "      <th>56</th>\n",
       "      <td>102.653134</td>\n",
       "      <td>0.006224</td>\n",
       "    </tr>\n",
       "    <tr>\n",
       "      <th>58</th>\n",
       "      <td>100.736190</td>\n",
       "      <td>0.006053</td>\n",
       "    </tr>\n",
       "    <tr>\n",
       "      <th>...</th>\n",
       "      <td>...</td>\n",
       "      <td>...</td>\n",
       "    </tr>\n",
       "    <tr>\n",
       "      <th>124</th>\n",
       "      <td>86.321624</td>\n",
       "      <td>0.001182</td>\n",
       "    </tr>\n",
       "    <tr>\n",
       "      <th>126</th>\n",
       "      <td>86.458298</td>\n",
       "      <td>0.001049</td>\n",
       "    </tr>\n",
       "    <tr>\n",
       "      <th>128</th>\n",
       "      <td>86.609487</td>\n",
       "      <td>0.000918</td>\n",
       "    </tr>\n",
       "    <tr>\n",
       "      <th>130</th>\n",
       "      <td>86.773961</td>\n",
       "      <td>0.000792</td>\n",
       "    </tr>\n",
       "    <tr>\n",
       "      <th>132</th>\n",
       "      <td>86.950151</td>\n",
       "      <td>0.000672</td>\n",
       "    </tr>\n",
       "    <tr>\n",
       "      <th>134</th>\n",
       "      <td>87.136263</td>\n",
       "      <td>0.000561</td>\n",
       "    </tr>\n",
       "    <tr>\n",
       "      <th>136</th>\n",
       "      <td>87.330378</td>\n",
       "      <td>0.000458</td>\n",
       "    </tr>\n",
       "    <tr>\n",
       "      <th>138</th>\n",
       "      <td>87.530544</td>\n",
       "      <td>0.000365</td>\n",
       "    </tr>\n",
       "    <tr>\n",
       "      <th>140</th>\n",
       "      <td>87.734861</td>\n",
       "      <td>0.000280</td>\n",
       "    </tr>\n",
       "    <tr>\n",
       "      <th>142</th>\n",
       "      <td>87.941555</td>\n",
       "      <td>0.000205</td>\n",
       "    </tr>\n",
       "    <tr>\n",
       "      <th>144</th>\n",
       "      <td>88.149052</td>\n",
       "      <td>0.000137</td>\n",
       "    </tr>\n",
       "    <tr>\n",
       "      <th>146</th>\n",
       "      <td>88.356035</td>\n",
       "      <td>0.000075</td>\n",
       "    </tr>\n",
       "    <tr>\n",
       "      <th>148</th>\n",
       "      <td>88.561494</td>\n",
       "      <td>0.000018</td>\n",
       "    </tr>\n",
       "    <tr>\n",
       "      <th>150</th>\n",
       "      <td>88.764694</td>\n",
       "      <td>-0.000036</td>\n",
       "    </tr>\n",
       "    <tr>\n",
       "      <th>152</th>\n",
       "      <td>88.965138</td>\n",
       "      <td>-0.000086</td>\n",
       "    </tr>\n",
       "    <tr>\n",
       "      <th>154</th>\n",
       "      <td>89.162529</td>\n",
       "      <td>-0.000134</td>\n",
       "    </tr>\n",
       "    <tr>\n",
       "      <th>156</th>\n",
       "      <td>89.356738</td>\n",
       "      <td>-0.000181</td>\n",
       "    </tr>\n",
       "    <tr>\n",
       "      <th>158</th>\n",
       "      <td>89.547769</td>\n",
       "      <td>-0.000228</td>\n",
       "    </tr>\n",
       "    <tr>\n",
       "      <th>160</th>\n",
       "      <td>89.735737</td>\n",
       "      <td>-0.000274</td>\n",
       "    </tr>\n",
       "    <tr>\n",
       "      <th>162</th>\n",
       "      <td>89.920834</td>\n",
       "      <td>-0.000321</td>\n",
       "    </tr>\n",
       "    <tr>\n",
       "      <th>164</th>\n",
       "      <td>90.103312</td>\n",
       "      <td>-0.000368</td>\n",
       "    </tr>\n",
       "    <tr>\n",
       "      <th>166</th>\n",
       "      <td>90.283457</td>\n",
       "      <td>-0.000416</td>\n",
       "    </tr>\n",
       "    <tr>\n",
       "      <th>168</th>\n",
       "      <td>90.461571</td>\n",
       "      <td>-0.000465</td>\n",
       "    </tr>\n",
       "    <tr>\n",
       "      <th>170</th>\n",
       "      <td>90.637951</td>\n",
       "      <td>-0.000514</td>\n",
       "    </tr>\n",
       "    <tr>\n",
       "      <th>172</th>\n",
       "      <td>90.812877</td>\n",
       "      <td>-0.000564</td>\n",
       "    </tr>\n",
       "    <tr>\n",
       "      <th>174</th>\n",
       "      <td>90.986591</td>\n",
       "      <td>-0.000615</td>\n",
       "    </tr>\n",
       "    <tr>\n",
       "      <th>176</th>\n",
       "      <td>91.159288</td>\n",
       "      <td>-0.000666</td>\n",
       "    </tr>\n",
       "    <tr>\n",
       "      <th>178</th>\n",
       "      <td>91.331102</td>\n",
       "      <td>-0.000716</td>\n",
       "    </tr>\n",
       "    <tr>\n",
       "      <th>180</th>\n",
       "      <td>91.502094</td>\n",
       "      <td>-0.000767</td>\n",
       "    </tr>\n",
       "    <tr>\n",
       "      <th>182</th>\n",
       "      <td>91.672241</td>\n",
       "      <td>-0.000816</td>\n",
       "    </tr>\n",
       "  </tbody>\n",
       "</table>\n",
       "<p>92 rows × 2 columns</p>\n",
       "</div>"
      ],
      "text/plain": [
       "              G         X\n",
       "0    290.000000  0.000000\n",
       "2    278.120000  0.000000\n",
       "4    266.952800  0.000300\n",
       "6    256.295460  0.002668\n",
       "8    245.070140  0.004041\n",
       "10   233.905138  0.004680\n",
       "12   223.201651  0.005252\n",
       "14   212.984844  0.005722\n",
       "16   203.288207  0.006093\n",
       "18   194.133461  0.006330\n",
       "20   185.547835  0.006474\n",
       "22   177.532461  0.006592\n",
       "24   170.060094  0.006708\n",
       "26   163.095009  0.006797\n",
       "28   156.612348  0.006851\n",
       "30   150.589660  0.006901\n",
       "32   144.995778  0.006977\n",
       "34   139.792631  0.007078\n",
       "36   134.946072  0.007177\n",
       "38   130.432335  0.007248\n",
       "40   126.235596  0.007277\n",
       "42   122.344305  0.007255\n",
       "44   118.748372  0.007185\n",
       "46   115.437048  0.007074\n",
       "48   112.397635  0.006931\n",
       "50   109.615688  0.006766\n",
       "52   107.075484  0.006587\n",
       "54   104.760387  0.006403\n",
       "56   102.653134  0.006224\n",
       "58   100.736190  0.006053\n",
       "..          ...       ...\n",
       "124   86.321624  0.001182\n",
       "126   86.458298  0.001049\n",
       "128   86.609487  0.000918\n",
       "130   86.773961  0.000792\n",
       "132   86.950151  0.000672\n",
       "134   87.136263  0.000561\n",
       "136   87.330378  0.000458\n",
       "138   87.530544  0.000365\n",
       "140   87.734861  0.000280\n",
       "142   87.941555  0.000205\n",
       "144   88.149052  0.000137\n",
       "146   88.356035  0.000075\n",
       "148   88.561494  0.000018\n",
       "150   88.764694 -0.000036\n",
       "152   88.965138 -0.000086\n",
       "154   89.162529 -0.000134\n",
       "156   89.356738 -0.000181\n",
       "158   89.547769 -0.000228\n",
       "160   89.735737 -0.000274\n",
       "162   89.920834 -0.000321\n",
       "164   90.103312 -0.000368\n",
       "166   90.283457 -0.000416\n",
       "168   90.461571 -0.000465\n",
       "170   90.637951 -0.000514\n",
       "172   90.812877 -0.000564\n",
       "174   90.986591 -0.000615\n",
       "176   91.159288 -0.000666\n",
       "178   91.331102 -0.000716\n",
       "180   91.502094 -0.000767\n",
       "182   91.672241 -0.000816\n",
       "\n",
       "[92 rows x 2 columns]"
      ]
     },
     "execution_count": 18,
     "metadata": {},
     "output_type": "execute_result"
    }
   ],
   "source": [
    "system.results"
   ]
  },
  {
   "cell_type": "markdown",
   "metadata": {},
   "source": [
    "The following plot shows the results of the simulation along with the actual glucose data."
   ]
  },
  {
   "cell_type": "code",
   "execution_count": 19,
   "metadata": {},
   "outputs": [
    {
     "name": "stdout",
     "output_type": "stream",
     "text": [
      "Saving figure to file chap08-fig03.pdf\n"
     ]
    },
    {
     "data": {
      "image/png": "[encoded data removed]",
      "text/plain": [
       "<matplotlib.figure.Figure at 0x2245a4b87b8>"
      ]
     },
     "metadata": {},
     "output_type": "display_data"
    }
   ],
   "source": [
    "subplot(2, 1, 1)\n",
    "\n",
    "plot(system.results.G, 'b-', label='simulation')\n",
    "plot(data.glucose, style='bo', label='glucose data')\n",
    "decorate(ylabel='mg/dL')\n",
    "\n",
    "subplot(2, 1, 2)\n",
    "\n",
    "plot(system.results.X, style='g-', label='remote insulin')\n",
    "\n",
    "decorate(xlabel='Time (min)', \n",
    "         ylabel='Arbitrary units')\n",
    "\n",
    "savefig('chap08-fig03.pdf')"
   ]
  },
  {
   "cell_type": "markdown",
   "metadata": {},
   "source": [
    "### Numerical solution\n",
    "\n",
    "We can do the same thing using `odeint`.  Instead of an update function, we provide a slope function that just evaluates the right-hand side of the differential equations.  We don't have to do the update part; `odeint` does it for us."
   ]
  },
  {
   "cell_type": "code",
   "execution_count": 20,
   "metadata": {
    "collapsed": true
   },
   "outputs": [],
   "source": [
    "def slope_func(state, t, system):\n",
    "    \"\"\"Computes derivatives of the glucose minimal model.\n",
    "    \n",
    "    state: State object\n",
    "    t: time in min\n",
    "    system: System object\n",
    "    \n",
    "    returns: derivatives of G and X\n",
    "    \"\"\"\n",
    "    G, X = state\n",
    "    unpack(system)\n",
    "    \n",
    "    dGdt = -k1 * (G - Gb) - X*G\n",
    "    dXdt = k3 * (I(t) - Ib) - k2 * X\n",
    "    \n",
    "    return dGdt, dXdt"
   ]
  },
  {
   "cell_type": "markdown",
   "metadata": {},
   "source": [
    "We can test the slope function with the initial conditions."
   ]
  },
  {
   "cell_type": "code",
   "execution_count": 21,
   "metadata": {},
   "outputs": [
    {
     "data": {
      "text/plain": [
       "(-5.9399999999999995, 0.0)"
      ]
     },
     "execution_count": 21,
     "metadata": {},
     "output_type": "execute_result"
    }
   ],
   "source": [
    "slope_func(init, 0, system)"
   ]
  },
  {
   "cell_type": "markdown",
   "metadata": {},
   "source": [
    "The `System` object we use with `run_odeint` is almost the same as the one we used with `run_simulation`, but instead of providing `t0`, `t_end`, and `dt`, we provide an array of times where we want to evaluate the solution.  In this case, we use `data.index`, so the results are evaluated at the same times as the measurements."
   ]
  },
  {
   "cell_type": "code",
   "execution_count": 22,
   "metadata": {
    "collapsed": true
   },
   "outputs": [],
   "source": [
    "system2 = System(init=init, \n",
    "                k1=k1, k2=k2, k3=k3,\n",
    "                I=I, Gb=Gb, Ib=Ib,\n",
    "                ts=data.index)"
   ]
  },
  {
   "cell_type": "markdown",
   "metadata": {},
   "source": [
    "`run_odeint` is a wrapper for `scipy.integrate.odeint`"
   ]
  },
  {
   "cell_type": "code",
   "execution_count": 23,
   "metadata": {
    "collapsed": true
   },
   "outputs": [],
   "source": [
    "%psource run_odeint"
   ]
  },
  {
   "cell_type": "markdown",
   "metadata": {},
   "source": [
    "Here's how we run it."
   ]
  },
  {
   "cell_type": "code",
   "execution_count": 24,
   "metadata": {},
   "outputs": [
    {
     "name": "stdout",
     "output_type": "stream",
     "text": [
      "Wall time: 128 ms\n"
     ]
    }
   ],
   "source": [
    "%time run_odeint(system2, slope_func)"
   ]
  },
  {
   "cell_type": "markdown",
   "metadata": {},
   "source": [
    "And here are the results."
   ]
  },
  {
   "cell_type": "code",
   "execution_count": 25,
   "metadata": {},
   "outputs": [
    {
     "data": {
      "text/html": [
       "<div>\n",
       "<style>\n",
       "    .dataframe thead tr:only-child th {\n",
       "        text-align: right;\n",
       "    }\n",
       "\n",
       "    .dataframe thead th {\n",
       "        text-align: left;\n",
       "    }\n",
       "\n",
       "    .dataframe tbody tr th {\n",
       "        vertical-align: top;\n",
       "    }\n",
       "</style>\n",
       "<table border=\"1\" class=\"dataframe\">\n",
       "  <thead>\n",
       "    <tr style=\"text-align: right;\">\n",
       "      <th></th>\n",
       "      <th>G</th>\n",
       "      <th>X</th>\n",
       "    </tr>\n",
       "    <tr>\n",
       "      <th>time</th>\n",
       "      <th></th>\n",
       "      <th></th>\n",
       "    </tr>\n",
       "  </thead>\n",
       "  <tbody>\n",
       "    <tr>\n",
       "      <th>0</th>\n",
       "      <td>290.000000</td>\n",
       "      <td>0.000000</td>\n",
       "    </tr>\n",
       "    <tr>\n",
       "      <th>2</th>\n",
       "      <td>278.568396</td>\n",
       "      <td>-0.000286</td>\n",
       "    </tr>\n",
       "    <tr>\n",
       "      <th>4</th>\n",
       "      <td>267.557071</td>\n",
       "      <td>0.001190</td>\n",
       "    </tr>\n",
       "    <tr>\n",
       "      <th>6</th>\n",
       "      <td>256.173536</td>\n",
       "      <td>0.003187</td>\n",
       "    </tr>\n",
       "    <tr>\n",
       "      <th>8</th>\n",
       "      <td>244.815439</td>\n",
       "      <td>0.004090</td>\n",
       "    </tr>\n",
       "    <tr>\n",
       "      <th>10</th>\n",
       "      <td>233.878160</td>\n",
       "      <td>0.004677</td>\n",
       "    </tr>\n",
       "    <tr>\n",
       "      <th>12</th>\n",
       "      <td>223.419189</td>\n",
       "      <td>0.005206</td>\n",
       "    </tr>\n",
       "    <tr>\n",
       "      <th>14</th>\n",
       "      <td>213.466144</td>\n",
       "      <td>0.005629</td>\n",
       "    </tr>\n",
       "    <tr>\n",
       "      <th>16</th>\n",
       "      <td>204.044929</td>\n",
       "      <td>0.005939</td>\n",
       "    </tr>\n",
       "    <tr>\n",
       "      <th>19</th>\n",
       "      <td>190.957448</td>\n",
       "      <td>0.006201</td>\n",
       "    </tr>\n",
       "    <tr>\n",
       "      <th>22</th>\n",
       "      <td>179.101094</td>\n",
       "      <td>0.006391</td>\n",
       "    </tr>\n",
       "    <tr>\n",
       "      <th>27</th>\n",
       "      <td>161.823398</td>\n",
       "      <td>0.006612</td>\n",
       "    </tr>\n",
       "    <tr>\n",
       "      <th>32</th>\n",
       "      <td>147.303135</td>\n",
       "      <td>0.006807</td>\n",
       "    </tr>\n",
       "    <tr>\n",
       "      <th>42</th>\n",
       "      <td>124.810323</td>\n",
       "      <td>0.007040</td>\n",
       "    </tr>\n",
       "    <tr>\n",
       "      <th>52</th>\n",
       "      <td>109.540725</td>\n",
       "      <td>0.006358</td>\n",
       "    </tr>\n",
       "    <tr>\n",
       "      <th>62</th>\n",
       "      <td>99.663782</td>\n",
       "      <td>0.005568</td>\n",
       "    </tr>\n",
       "    <tr>\n",
       "      <th>72</th>\n",
       "      <td>93.391540</td>\n",
       "      <td>0.004742</td>\n",
       "    </tr>\n",
       "    <tr>\n",
       "      <th>82</th>\n",
       "      <td>89.675671</td>\n",
       "      <td>0.003827</td>\n",
       "    </tr>\n",
       "    <tr>\n",
       "      <th>92</th>\n",
       "      <td>87.706935</td>\n",
       "      <td>0.002931</td>\n",
       "    </tr>\n",
       "    <tr>\n",
       "      <th>102</th>\n",
       "      <td>86.906566</td>\n",
       "      <td>0.002258</td>\n",
       "    </tr>\n",
       "    <tr>\n",
       "      <th>122</th>\n",
       "      <td>86.905346</td>\n",
       "      <td>0.001267</td>\n",
       "    </tr>\n",
       "    <tr>\n",
       "      <th>142</th>\n",
       "      <td>88.387480</td>\n",
       "      <td>0.000200</td>\n",
       "    </tr>\n",
       "    <tr>\n",
       "      <th>162</th>\n",
       "      <td>90.150898</td>\n",
       "      <td>-0.000316</td>\n",
       "    </tr>\n",
       "    <tr>\n",
       "      <th>182</th>\n",
       "      <td>91.791045</td>\n",
       "      <td>-0.000812</td>\n",
       "    </tr>\n",
       "  </tbody>\n",
       "</table>\n",
       "</div>"
      ],
      "text/plain": [
       "               G         X\n",
       "time                      \n",
       "0     290.000000  0.000000\n",
       "2     278.568396 -0.000286\n",
       "4     267.557071  0.001190\n",
       "6     256.173536  0.003187\n",
       "8     244.815439  0.004090\n",
       "10    233.878160  0.004677\n",
       "12    223.419189  0.005206\n",
       "14    213.466144  0.005629\n",
       "16    204.044929  0.005939\n",
       "19    190.957448  0.006201\n",
       "22    179.101094  0.006391\n",
       "27    161.823398  0.006612\n",
       "32    147.303135  0.006807\n",
       "42    124.810323  0.007040\n",
       "52    109.540725  0.006358\n",
       "62     99.663782  0.005568\n",
       "72     93.391540  0.004742\n",
       "82     89.675671  0.003827\n",
       "92     87.706935  0.002931\n",
       "102    86.906566  0.002258\n",
       "122    86.905346  0.001267\n",
       "142    88.387480  0.000200\n",
       "162    90.150898 -0.000316\n",
       "182    91.791045 -0.000812"
      ]
     },
     "execution_count": 25,
     "metadata": {},
     "output_type": "execute_result"
    }
   ],
   "source": [
    "system2.results"
   ]
  },
  {
   "cell_type": "markdown",
   "metadata": {},
   "source": [
    "Plotting the results from `run_simulation` and `run_odeint`, we can see that they are not very different."
   ]
  },
  {
   "cell_type": "code",
   "execution_count": 26,
   "metadata": {},
   "outputs": [
    {
     "data": {
      "image/png": "[encoded data removed]",
      "text/plain": [
       "<matplotlib.figure.Figure at 0x2245a6577f0>"
      ]
     },
     "metadata": {},
     "output_type": "display_data"
    }
   ],
   "source": [
    "plot(system.results.G, 'r-')\n",
    "plot(system2.results.G, 'b-')\n",
    "plot(data.glucose, 'bo')"
   ]
  },
  {
   "cell_type": "markdown",
   "metadata": {},
   "source": [
    "The differences are usually less than 1% and always less than 2%."
   ]
  },
  {
   "cell_type": "code",
   "execution_count": 27,
   "metadata": {},
   "outputs": [
    {
     "data": {
      "text/html": [
       "<div>\n",
       "<style>\n",
       "    .dataframe thead tr:only-child th {\n",
       "        text-align: right;\n",
       "    }\n",
       "\n",
       "    .dataframe thead th {\n",
       "        text-align: left;\n",
       "    }\n",
       "\n",
       "    .dataframe tbody tr th {\n",
       "        vertical-align: top;\n",
       "    }\n",
       "</style>\n",
       "<table border=\"1\" class=\"dataframe\">\n",
       "  <thead>\n",
       "    <tr style=\"text-align: right;\">\n",
       "      <th></th>\n",
       "      <th>G</th>\n",
       "      <th>X</th>\n",
       "    </tr>\n",
       "  </thead>\n",
       "  <tbody>\n",
       "    <tr>\n",
       "      <th>2</th>\n",
       "      <td>-0.160964</td>\n",
       "      <td>-100.000000</td>\n",
       "    </tr>\n",
       "    <tr>\n",
       "      <th>4</th>\n",
       "      <td>-0.225848</td>\n",
       "      <td>-74.780067</td>\n",
       "    </tr>\n",
       "    <tr>\n",
       "      <th>6</th>\n",
       "      <td>0.047594</td>\n",
       "      <td>-16.274247</td>\n",
       "    </tr>\n",
       "    <tr>\n",
       "      <th>8</th>\n",
       "      <td>0.104038</td>\n",
       "      <td>-1.181273</td>\n",
       "    </tr>\n",
       "    <tr>\n",
       "      <th>10</th>\n",
       "      <td>0.011535</td>\n",
       "      <td>0.051394</td>\n",
       "    </tr>\n",
       "    <tr>\n",
       "      <th>12</th>\n",
       "      <td>-0.097368</td>\n",
       "      <td>0.895427</td>\n",
       "    </tr>\n",
       "    <tr>\n",
       "      <th>14</th>\n",
       "      <td>-0.225469</td>\n",
       "      <td>1.653046</td>\n",
       "    </tr>\n",
       "    <tr>\n",
       "      <th>16</th>\n",
       "      <td>-0.370860</td>\n",
       "      <td>2.603168</td>\n",
       "    </tr>\n",
       "    <tr>\n",
       "      <th>22</th>\n",
       "      <td>-0.875837</td>\n",
       "      <td>3.140117</td>\n",
       "    </tr>\n",
       "    <tr>\n",
       "      <th>32</th>\n",
       "      <td>-1.566401</td>\n",
       "      <td>2.502594</td>\n",
       "    </tr>\n",
       "    <tr>\n",
       "      <th>42</th>\n",
       "      <td>-1.975813</td>\n",
       "      <td>3.054155</td>\n",
       "    </tr>\n",
       "    <tr>\n",
       "      <th>52</th>\n",
       "      <td>-2.250525</td>\n",
       "      <td>3.603031</td>\n",
       "    </tr>\n",
       "    <tr>\n",
       "      <th>62</th>\n",
       "      <td>-2.265062</td>\n",
       "      <td>3.090240</td>\n",
       "    </tr>\n",
       "    <tr>\n",
       "      <th>72</th>\n",
       "      <td>-2.103586</td>\n",
       "      <td>3.414823</td>\n",
       "    </tr>\n",
       "    <tr>\n",
       "      <th>82</th>\n",
       "      <td>-1.868181</td>\n",
       "      <td>3.252985</td>\n",
       "    </tr>\n",
       "    <tr>\n",
       "      <th>92</th>\n",
       "      <td>-1.597893</td>\n",
       "      <td>3.543520</td>\n",
       "    </tr>\n",
       "    <tr>\n",
       "      <th>102</th>\n",
       "      <td>-1.305110</td>\n",
       "      <td>1.974110</td>\n",
       "    </tr>\n",
       "    <tr>\n",
       "      <th>122</th>\n",
       "      <td>-0.811354</td>\n",
       "      <td>3.758285</td>\n",
       "    </tr>\n",
       "    <tr>\n",
       "      <th>142</th>\n",
       "      <td>-0.504511</td>\n",
       "      <td>2.372839</td>\n",
       "    </tr>\n",
       "    <tr>\n",
       "      <th>162</th>\n",
       "      <td>-0.255198</td>\n",
       "      <td>1.571950</td>\n",
       "    </tr>\n",
       "    <tr>\n",
       "      <th>182</th>\n",
       "      <td>-0.129429</td>\n",
       "      <td>0.420414</td>\n",
       "    </tr>\n",
       "  </tbody>\n",
       "</table>\n",
       "</div>"
      ],
      "text/plain": [
       "            G           X\n",
       "2   -0.160964 -100.000000\n",
       "4   -0.225848  -74.780067\n",
       "6    0.047594  -16.274247\n",
       "8    0.104038   -1.181273\n",
       "10   0.011535    0.051394\n",
       "12  -0.097368    0.895427\n",
       "14  -0.225469    1.653046\n",
       "16  -0.370860    2.603168\n",
       "22  -0.875837    3.140117\n",
       "32  -1.566401    2.502594\n",
       "42  -1.975813    3.054155\n",
       "52  -2.250525    3.603031\n",
       "62  -2.265062    3.090240\n",
       "72  -2.103586    3.414823\n",
       "82  -1.868181    3.252985\n",
       "92  -1.597893    3.543520\n",
       "102 -1.305110    1.974110\n",
       "122 -0.811354    3.758285\n",
       "142 -0.504511    2.372839\n",
       "162 -0.255198    1.571950\n",
       "182 -0.129429    0.420414"
      ]
     },
     "execution_count": 27,
     "metadata": {},
     "output_type": "execute_result"
    }
   ],
   "source": [
    "diff = system.results - system2.results\n",
    "percent_diff = diff / system2.results * 100\n",
    "percent_diff.dropna()"
   ]
  },
  {
   "cell_type": "markdown",
   "metadata": {},
   "source": [
    "**Exercise:** What happens to these errors if you run the simulation with a smaller value of `dt`?"
   ]
  },
  {
   "cell_type": "markdown",
   "metadata": {},
   "source": [
    "The errors get smaller as the timestep gets smaller"
   ]
  },
  {
   "cell_type": "markdown",
   "metadata": {},
   "source": [
    "### Optimization"
   ]
  },
  {
   "cell_type": "markdown",
   "metadata": {},
   "source": [
    "Now let's find the parameters that yield the best fit for the data."
   ]
  },
  {
   "cell_type": "code",
   "execution_count": 28,
   "metadata": {
    "collapsed": true
   },
   "outputs": [],
   "source": [
    "k1 = 0.03\n",
    "k2 = 0.02\n",
    "k3 = 1e-05\n",
    "G0 = 300"
   ]
  },
  {
   "cell_type": "markdown",
   "metadata": {},
   "source": [
    "Again, we'll get basal levels from the initial values."
   ]
  },
  {
   "cell_type": "code",
   "execution_count": 29,
   "metadata": {
    "collapsed": true
   },
   "outputs": [],
   "source": [
    "Gb = data.glucose[0]\n",
    "Ib = data.insulin[0]"
   ]
  },
  {
   "cell_type": "markdown",
   "metadata": {},
   "source": [
    "And the slope function is the same."
   ]
  },
  {
   "cell_type": "code",
   "execution_count": 30,
   "metadata": {
    "collapsed": true
   },
   "outputs": [],
   "source": [
    "def slope_func(state, t, system):\n",
    "    \"\"\"Computes derivatives of the glucose minimal model.\n",
    "    \n",
    "    state: State object\n",
    "    t: time in min\n",
    "    system: System object\n",
    "    \n",
    "    returns: derivatives of G and X\n",
    "    \"\"\"\n",
    "    G, X = state\n",
    "    unpack(system)\n",
    "    \n",
    "    dGdt = -k1 * (G - Gb) - X*G\n",
    "    dXdt = k3 * (I(t) - Ib) - k2 * X\n",
    "    \n",
    "    return dGdt, dXdt"
   ]
  },
  {
   "cell_type": "markdown",
   "metadata": {},
   "source": [
    "`make_system` takes the parameters and `DataFrame` and returns a `System` object."
   ]
  },
  {
   "cell_type": "code",
   "execution_count": 31,
   "metadata": {
    "collapsed": true
   },
   "outputs": [],
   "source": [
    "def make_system(G0, k1, k2, k3, data):\n",
    "    \"\"\"Makes a System object with the given parameters.\n",
    "    \n",
    "    G0: initial blood glucose\n",
    "    k1: rate parameter\n",
    "    k2: rate parameter\n",
    "    k3: rate parameter\n",
    "    data: DataFrame\n",
    "    \n",
    "    returns: System object\n",
    "    \"\"\"\n",
    "    init = State(G=G0, X=0)\n",
    "    system = System(init=init, \n",
    "                    k1=k1, k2=k2, k3=k3,\n",
    "                    Gb=Gb, Ib=Ib, \n",
    "                    I=interpolate(data.insulin),\n",
    "                    ts=data.index)\n",
    "    return system"
   ]
  },
  {
   "cell_type": "markdown",
   "metadata": {},
   "source": [
    "`error_func` takes the parameters and actual data, makes a `System` object and runs it, then compares the results of the simulation to the data.  It returns an array of errors."
   ]
  },
  {
   "cell_type": "code",
   "execution_count": 32,
   "metadata": {
    "collapsed": true
   },
   "outputs": [],
   "source": [
    "def error_func(params, data):\n",
    "    \"\"\"Computes an array of errors to be minimized.\n",
    "    \n",
    "    params: sequence of parameters\n",
    "    data: DataFrame of values to be matched\n",
    "    \n",
    "    returns: array of errors\n",
    "    \"\"\"\n",
    "    print(params)\n",
    "    \n",
    "    # make a System with the given parameters\n",
    "    system = make_system(*params, data)\n",
    "    \n",
    "    # solve the ODE\n",
    "    run_odeint(system, slope_func)\n",
    "    \n",
    "    # compute the difference between the model\n",
    "    # results and actual data\n",
    "    error = system.results.G - data.glucose\n",
    "    return error.loc[8: ]"
   ]
  },
  {
   "cell_type": "markdown",
   "metadata": {},
   "source": [
    "When we call `error_func`, we provide a sequence of parameters as a single object."
   ]
  },
  {
   "cell_type": "code",
   "execution_count": 33,
   "metadata": {},
   "outputs": [
    {
     "data": {
      "text/plain": [
       "(300, 0.03, 0.02, 1e-05)"
      ]
     },
     "execution_count": 33,
     "metadata": {},
     "output_type": "execute_result"
    }
   ],
   "source": [
    "params = G0, k1, k2, k3\n",
    "params"
   ]
  },
  {
   "cell_type": "markdown",
   "metadata": {},
   "source": [
    "Here's how that works:"
   ]
  },
  {
   "cell_type": "code",
   "execution_count": 34,
   "metadata": {},
   "outputs": [
    {
     "name": "stdout",
     "output_type": "stream",
     "text": [
      "(300, 0.03, 0.02, 1e-05)\n"
     ]
    },
    {
     "data": {
      "text/plain": [
       "time\n",
       "8      12.142067\n",
       "10     24.624316\n",
       "12     18.622766\n",
       "14     14.166727\n",
       "16     13.280115\n",
       "19      3.556000\n",
       "22     11.132109\n",
       "27      2.055033\n",
       "32      7.882526\n",
       "42      2.519303\n",
       "52      5.681405\n",
       "62      8.395601\n",
       "72      9.865296\n",
       "82     12.975447\n",
       "92      5.885299\n",
       "102     5.992065\n",
       "122     4.992793\n",
       "142     6.436802\n",
       "162     5.180873\n",
       "182     1.819991\n",
       "dtype: float64"
      ]
     },
     "execution_count": 34,
     "metadata": {},
     "output_type": "execute_result"
    }
   ],
   "source": [
    "error_func(params, data)"
   ]
  },
  {
   "cell_type": "markdown",
   "metadata": {},
   "source": [
    "`fit_leastsq` is a wrapper for `scipy.optimize.leastsq`"
   ]
  },
  {
   "cell_type": "code",
   "execution_count": 35,
   "metadata": {
    "collapsed": true
   },
   "outputs": [],
   "source": [
    "%psource fit_leastsq"
   ]
  },
  {
   "cell_type": "markdown",
   "metadata": {},
   "source": [
    "Here's how we call it."
   ]
  },
  {
   "cell_type": "code",
   "execution_count": 36,
   "metadata": {},
   "outputs": [
    {
     "name": "stdout",
     "output_type": "stream",
     "text": [
      "[  3.00000000e+02   3.00000000e-02   2.00000000e-02   1.00000000e-05]\n",
      "[  3.00000000e+02   3.00000000e-02   2.00000000e-02   1.00000000e-05]\n",
      "[  3.00000000e+02   3.00000000e-02   2.00000000e-02   1.00000000e-05]\n",
      "[  3.00000004e+02   3.00000000e-02   2.00000000e-02   1.00000000e-05]\n",
      "[  3.00000000e+02   3.00000004e-02   2.00000000e-02   1.00000000e-05]\n",
      "[  3.00000000e+02   3.00000000e-02   2.00000003e-02   1.00000000e-05]\n",
      "[  3.00000000e+02   3.00000000e-02   2.00000000e-02   1.00000001e-05]\n",
      "[  2.98971896e+02   3.00878611e-02   1.99609916e-02   1.00232549e-05]\n",
      "[  2.98971901e+02   3.00878611e-02   1.99609916e-02   1.00232549e-05]\n",
      "[  2.98971896e+02   3.00878615e-02   1.99609916e-02   1.00232549e-05]\n",
      "[  2.98971896e+02   3.00878611e-02   1.99609919e-02   1.00232549e-05]\n",
      "[  2.98971896e+02   3.00878611e-02   1.99609916e-02   1.00232550e-05]\n",
      "[  2.96894686e+02   3.01664461e-02   2.00990560e-02   9.97457164e-06]\n",
      "[  2.96894691e+02   3.01664461e-02   2.00990560e-02   9.97457164e-06]\n",
      "[  2.96894686e+02   3.01664465e-02   2.00990560e-02   9.97457164e-06]\n",
      "[  2.96894686e+02   3.01664461e-02   2.00990563e-02   9.97457164e-06]\n",
      "[  2.96894686e+02   3.01664461e-02   2.00990560e-02   9.97457179e-06]\n",
      "[  2.96675523e+02   3.01445122e-02   2.00956062e-02   9.95704520e-06]\n",
      "[  2.96675527e+02   3.01445122e-02   2.00956062e-02   9.95704520e-06]\n",
      "[  2.96675523e+02   3.01445127e-02   2.00956062e-02   9.95704520e-06]\n",
      "[  2.96675523e+02   3.01445122e-02   2.00956065e-02   9.95704520e-06]\n",
      "[  2.96675523e+02   3.01445122e-02   2.00956062e-02   9.95704535e-06]\n",
      "[  2.95151952e+02   3.01540442e-02   2.00919836e-02   9.96455262e-06]\n",
      "[  2.95151956e+02   3.01540442e-02   2.00919836e-02   9.96455262e-06]\n",
      "[  2.95151952e+02   3.01540446e-02   2.00919836e-02   9.96455262e-06]\n",
      "[  2.95151952e+02   3.01540442e-02   2.00919839e-02   9.96455262e-06]\n",
      "[  2.95151952e+02   3.01540442e-02   2.00919836e-02   9.96455277e-06]\n",
      "[  2.95292448e+02   3.01724841e-02   2.01998181e-02   9.97724651e-06]\n",
      "[  2.95282869e+02   3.01717128e-02   2.01384026e-02   9.97773811e-06]\n",
      "[  2.95272926e+02   3.01711968e-02   2.01062594e-02   9.97785030e-06]\n",
      "[  2.95163200e+02   3.01634152e-02   2.00922334e-02   9.97280901e-06]\n",
      "[  2.95163205e+02   3.01634152e-02   2.00922334e-02   9.97280901e-06]\n",
      "[  2.95163200e+02   3.01634156e-02   2.00922334e-02   9.97280901e-06]\n",
      "[  2.95163200e+02   3.01634152e-02   2.00922337e-02   9.97280901e-06]\n",
      "[  2.95163200e+02   3.01634152e-02   2.00922334e-02   9.97280916e-06]\n",
      "[  2.95155859e+02   3.01673111e-02   2.00936810e-02   9.97647470e-06]\n",
      "[  2.95155863e+02   3.01673111e-02   2.00936810e-02   9.97647470e-06]\n",
      "[  2.95155859e+02   3.01673115e-02   2.00936810e-02   9.97647470e-06]\n",
      "[  2.95155859e+02   3.01673111e-02   2.00936813e-02   9.97647470e-06]\n",
      "[  2.95155859e+02   3.01673111e-02   2.00936810e-02   9.97647485e-06]\n",
      "[  2.95153106e+02   3.01639339e-02   2.00936724e-02   9.97693391e-06]\n",
      "[  2.95154659e+02   3.01656422e-02   2.00936770e-02   9.97672445e-06]\n",
      "[  2.95155267e+02   3.01664409e-02   2.00936789e-02   9.97660993e-06]\n",
      "[  2.95155566e+02   3.01668681e-02   2.00936800e-02   9.97654484e-06]\n",
      "[  2.95155714e+02   3.01670884e-02   2.00936805e-02   9.97651028e-06]\n",
      "[  2.95155794e+02   3.01672102e-02   2.00936808e-02   9.97649091e-06]\n",
      "[  2.95155827e+02   3.01672608e-02   2.00936809e-02   9.97648280e-06]\n",
      "[  2.95155843e+02   3.01672863e-02   2.00936809e-02   9.97647869e-06]\n",
      "[  2.95155851e+02   3.01672988e-02   2.00936810e-02   9.97647669e-06]\n",
      "[  2.95155855e+02   3.01673052e-02   2.00936810e-02   9.97647565e-06]\n",
      "[  2.95155857e+02   3.01673084e-02   2.00936810e-02   9.97647514e-06]\n",
      "[  2.95155858e+02   3.01673099e-02   2.00936810e-02   9.97647489e-06]\n",
      "modsim.py: scipy.optimize.leastsq ran successfully\n",
      "                 and returned the following message:\n",
      "The relative error between two consecutive iterates is at most 0.000000\n"
     ]
    }
   ],
   "source": [
    "best_params = fit_leastsq(error_func, params, data)"
   ]
  },
  {
   "cell_type": "markdown",
   "metadata": {},
   "source": [
    "Now that we have `best_params`, we can use it to make a `System` object and run it.\n",
    "\n",
    "We have to use the scatter operator, `*`, to make `best_params` behave like four separate parameters, rather than a single object."
   ]
  },
  {
   "cell_type": "code",
   "execution_count": 37,
   "metadata": {
    "collapsed": true
   },
   "outputs": [],
   "source": [
    "system = make_system(*best_params, data)\n",
    "run_odeint(system, slope_func)"
   ]
  },
  {
   "cell_type": "markdown",
   "metadata": {},
   "source": [
    "Here are the results, along with the data.  The first few points of the model don't fit the data, but we don't expect them to."
   ]
  },
  {
   "cell_type": "code",
   "execution_count": 38,
   "metadata": {},
   "outputs": [
    {
     "name": "stdout",
     "output_type": "stream",
     "text": [
      "Saving figure to file chap08-fig04.pdf\n"
     ]
    },
    {
     "data": {
      "image/png": "[encoded data removed]",
      "text/plain": [
       "<matplotlib.figure.Figure at 0x2245a6a0780>"
      ]
     },
     "metadata": {},
     "output_type": "display_data"
    }
   ],
   "source": [
    "plot(system.results.G, label='simulation')\n",
    "plot(data.glucose, style='bo', label='glucose data')\n",
    "\n",
    "decorate(xlabel='Time (min)',\n",
    "         ylabel='Concentration (mg/dL)')\n",
    "\n",
    "savefig('chap08-fig04.pdf')"
   ]
  },
  {
   "cell_type": "markdown",
   "metadata": {},
   "source": [
    "**Exercise:** Since we don't expect the first few points to agree, it's probably better not to make them part of the optimization process.  We can ignore them by leaving them out of the `Series` returned by `error_func`.  Modify the last line of `error_func` to return `errors.loc[8:]`, which includes only the elements of the `Series` from `t=8` and up.\n",
    "\n",
    "Does that improve the quality of the fit?  Does it change the best parameters by much?\n",
    "\n",
    "Note: You can read more about this use of `loc` [in the Pandas documentation](https://pandas.pydata.org/pandas-docs/stable/indexing.html#indexing-integer)."
   ]
  },
  {
   "cell_type": "markdown",
   "metadata": {},
   "source": [
    "It changes the parameters slightly, and the fit of the line appears to be slightly better."
   ]
  },
  {
   "cell_type": "markdown",
   "metadata": {},
   "source": [
    "**Exercise:** How sensitive are the results to the starting guess for the parameters.  If you try different values for the starting guess, do we get the same values for the best parameters?"
   ]
  },
  {
   "cell_type": "markdown",
   "metadata": {},
   "source": [
    "The results are fairly sensitive to the starting guess for the parameters - just changing G0 to 300, for example, causes the final result to shift by 20."
   ]
  },
  {
   "cell_type": "markdown",
   "metadata": {},
   "source": [
    "### Interpreting parameters\n",
    "\n",
    "Based on the parameters of the model, we can estimate glucose effectiveness and insulin sensitivity."
   ]
  },
  {
   "cell_type": "code",
   "execution_count": 39,
   "metadata": {
    "collapsed": true
   },
   "outputs": [],
   "source": [
    "def indices(G0, k1, k2, k3):\n",
    "    \"\"\"Compute glucose effectiveness and insulin sensitivity.\n",
    "    \n",
    "    G0: initial blood glucose\n",
    "    k1: rate parameter\n",
    "    k2: rate parameter\n",
    "    k3: rate parameter\n",
    "    data: DataFrame\n",
    "    \n",
    "    returns: State object containing S_G and S_I\n",
    "    \"\"\"\n",
    "    return State(S_G=k1, S_I=k3/k2)"
   ]
  },
  {
   "cell_type": "markdown",
   "metadata": {},
   "source": [
    "Here are the results."
   ]
  },
  {
   "cell_type": "code",
   "execution_count": 40,
   "metadata": {},
   "outputs": [
    {
     "data": {
      "text/html": [
       "<div>\n",
       "<style>\n",
       "    .dataframe thead tr:only-child th {\n",
       "        text-align: right;\n",
       "    }\n",
       "\n",
       "    .dataframe thead th {\n",
       "        text-align: left;\n",
       "    }\n",
       "\n",
       "    .dataframe tbody tr th {\n",
       "        vertical-align: top;\n",
       "    }\n",
       "</style>\n",
       "<table border=\"1\" class=\"dataframe\">\n",
       "  <thead>\n",
       "    <tr style=\"text-align: right;\">\n",
       "      <th></th>\n",
       "      <th>value</th>\n",
       "    </tr>\n",
       "  </thead>\n",
       "  <tbody>\n",
       "    <tr>\n",
       "      <th>S_G</th>\n",
       "      <td>0.030167</td>\n",
       "    </tr>\n",
       "    <tr>\n",
       "      <th>S_I</th>\n",
       "      <td>0.000496</td>\n",
       "    </tr>\n",
       "  </tbody>\n",
       "</table>\n",
       "</div>"
      ],
      "text/plain": [
       "S_G    0.030167\n",
       "S_I    0.000496\n",
       "dtype: float64"
      ]
     },
     "execution_count": 40,
     "metadata": {},
     "output_type": "execute_result"
    }
   ],
   "source": [
    "indices(*best_params)"
   ]
  },
  {
   "cell_type": "markdown",
   "metadata": {},
   "source": [
    "### The insulin minimal model\n",
    "\n",
    "In addition to the glucose minimal mode, Pacini and Bergman present an insulin minimal model, in which the concentration of insulin, $I$, is governed by this differential equation:\n",
    "\n",
    "$ \\frac{dI}{dt} = -k I(t) + \\gamma (G(t) - G_T) t $"
   ]
  },
  {
   "cell_type": "markdown",
   "metadata": {},
   "source": [
    "**Exercise:**  Write a version of `make_system` that takes the parameters of this model, `I0`, `k`, `gamma`, and `G_T` as parameters, along with a `DataFrame` containing the measurements, and returns a `System` object suitable for use with `run_simulation` or `run_odeint`.\n",
    "\n",
    "Use it to make a `System` object with the following parameters:"
   ]
  },
  {
   "cell_type": "code",
   "execution_count": 41,
   "metadata": {
    "collapsed": true
   },
   "outputs": [],
   "source": [
    "I0 = 360\n",
    "k = 0.25\n",
    "gamma = 0.004\n",
    "G_T = 80"
   ]
  },
  {
   "cell_type": "code",
   "execution_count": 42,
   "metadata": {
    "collapsed": true
   },
   "outputs": [],
   "source": [
    "def make_system(I0, k, gamma, G_T, data):\n",
    "    init = State(I = I0)\n",
    "    return System(init = init, k = k, gamma = gamma, G = interpolate(data.glucose),\n",
    "                  G_T = G_T, t_0 = 0, t_end = 182, dt = 1, ts = data.index)"
   ]
  },
  {
   "cell_type": "code",
   "execution_count": 43,
   "metadata": {
    "collapsed": true
   },
   "outputs": [],
   "source": [
    "system = make_system(I0, k, gamma, G_T, data)"
   ]
  },
  {
   "cell_type": "markdown",
   "metadata": {},
   "source": [
    "**Exercise:** Write a slope function that takes state, t, system as parameters and returns the derivative of `I` with respect to time.  Test your function with the initial condition $I(0)=360$."
   ]
  },
  {
   "cell_type": "code",
   "execution_count": 44,
   "metadata": {
    "collapsed": true
   },
   "outputs": [],
   "source": [
    "def get_slope(state, t, system):\n",
    "    unpack(system)\n",
    "    I = state\n",
    "    slope = -k * I + gamma * (G(t) - G_T) * t\n",
    "    return slope"
   ]
  },
  {
   "cell_type": "code",
   "execution_count": 45,
   "metadata": {},
   "outputs": [
    {
     "data": {
      "text/plain": [
       "I   -90.0\n",
       "dtype: float64"
      ]
     },
     "execution_count": 45,
     "metadata": {},
     "output_type": "execute_result"
    }
   ],
   "source": [
    "get_slope(system.init, 0, system)"
   ]
  },
  {
   "cell_type": "markdown",
   "metadata": {},
   "source": [
    "**Exercise:** Run `run_odeint` with your `System` object and slope function, and plot the results, along with the measured insulin levels."
   ]
  },
  {
   "cell_type": "code",
   "execution_count": 46,
   "metadata": {},
   "outputs": [
    {
     "data": {
      "image/png": "[encoded data removed]",
      "text/plain": [
       "<matplotlib.figure.Figure at 0x2245a597a58>"
      ]
     },
     "metadata": {},
     "output_type": "display_data"
    }
   ],
   "source": [
    "run_odeint(system, get_slope)\n",
    "plot(system.results, 'r-', label = \"Model\")\n",
    "plot(data.insulin, 'bo', label = \"Measured\")\n",
    "decorate(xlabel = \"Minutes\", ylabel = \"mg/uL\")"
   ]
  },
  {
   "cell_type": "markdown",
   "metadata": {},
   "source": [
    "**Exercise:**  Write an error function that takes a sequence of parameters as an argument, along with the `DataFrame` containing the measurements.  It should make a `System` object with the given parameters, run it, and compute the difference between the results of the simulation and the measured values.  Test your error function by calling it with the parameters from the previous exercise.\n",
    "\n",
    "Hint: As we did in a previous exercise, you might want to drop the errors for times prior to `t=8`."
   ]
  },
  {
   "cell_type": "code",
   "execution_count": 47,
   "metadata": {
    "collapsed": true
   },
   "outputs": [],
   "source": [
    "def get_error(params, data):\n",
    "    system = make_system(*params, data)\n",
    "    run_odeint(system, get_slope)\n",
    "    error = system.results.I - data.insulin\n",
    "    return error.loc[8:]"
   ]
  },
  {
   "cell_type": "code",
   "execution_count": 71,
   "metadata": {},
   "outputs": [
    {
     "data": {
      "text/plain": [
       "time\n",
       "8      10.636133\n",
       "10     -3.234670\n",
       "12     -7.946879\n",
       "14     -8.010268\n",
       "16     -3.593411\n",
       "19      1.811071\n",
       "22      2.581632\n",
       "27      7.014287\n",
       "32      3.758216\n",
       "42      8.932902\n",
       "52      9.554216\n",
       "62      0.767804\n",
       "72     -3.217947\n",
       "82    -10.382598\n",
       "92     -7.401702\n",
       "102    -9.056569\n",
       "122    -3.584244\n",
       "142    -3.586427\n",
       "162     3.170251\n",
       "182    18.702699\n",
       "dtype: float64"
      ]
     },
     "execution_count": 71,
     "metadata": {},
     "output_type": "execute_result"
    }
   ],
   "source": [
    "params = 360, 0.25, 0.004, 80\n",
    "get_error(params, data)"
   ]
  },
  {
   "cell_type": "markdown",
   "metadata": {},
   "source": [
    "**Exercise:** Use `fit_leastsq` to find the parameters that best fit the data.  Make a `System` object with those parameters, run it, and plot the results along with the measurements."
   ]
  },
  {
   "cell_type": "code",
   "execution_count": 72,
   "metadata": {},
   "outputs": [
    {
     "name": "stdout",
     "output_type": "stream",
     "text": [
      "modsim.py: scipy.optimize.leastsq ran successfully\n",
      "                 and returned the following message:\n",
      "The relative error between two consecutive iterates is at most 0.000000\n"
     ]
    }
   ],
   "source": [
    "best_params = fit_leastsq(get_error, params, data)"
   ]
  },
  {
   "cell_type": "code",
   "execution_count": 73,
   "metadata": {
    "collapsed": true
   },
   "outputs": [],
   "source": [
    "system2 = make_system(*best_params, data)\n",
    "run_odeint(system2, get_slope)"
   ]
  },
  {
   "cell_type": "code",
   "execution_count": 74,
   "metadata": {},
   "outputs": [
    {
     "data": {
      "image/png": "[encoded data removed]",
      "text/plain": [
       "<matplotlib.figure.Figure at 0x2245acba8d0>"
      ]
     },
     "metadata": {},
     "output_type": "display_data"
    }
   ],
   "source": [
    "newfig()\n",
    "plot(system2.results.I, 'r-', label = \"Model\")\n",
    "plot(data.insulin, 'bo', label = \"Data\")\n",
    "decorate(xlabel = \"Minutes\", ylabel = \"mg/uL\")"
   ]
  },
  {
   "cell_type": "code",
   "execution_count": 52,
   "metadata": {
    "collapsed": true
   },
   "outputs": [],
   "source": [
    "# Solution goes here"
   ]
  },
  {
   "cell_type": "markdown",
   "metadata": {},
   "source": [
    "**Exercise:** Using the best parameters, estimate the sensitivity to glucose of the first and second phase pancreatic responsivity:\n",
    "\n",
    "$ \\phi_1 = \\frac{I_{max} - I_b}{k (G_0 - G_b)} $\n",
    "\n",
    "$ \\phi_2 = \\gamma \\times 10^4 $"
   ]
  },
  {
   "cell_type": "code",
   "execution_count": 95,
   "metadata": {
    "collapsed": true
   },
   "outputs": [],
   "source": [
    "I0, k, gamma, G_T = best_params\n",
    "phi1 = (max(data.insulin) - Ib)/(k * (G0 - Gb))\n",
    "phi2 = gamma * (10^4)"
   ]
  },
  {
   "cell_type": "code",
   "execution_count": 96,
   "metadata": {},
   "outputs": [
    {
     "data": {
      "text/plain": [
       "2.2989835429283136"
      ]
     },
     "execution_count": 96,
     "metadata": {},
     "output_type": "execute_result"
    }
   ],
   "source": [
    "phi1"
   ]
  },
  {
   "cell_type": "code",
   "execution_count": 97,
   "metadata": {},
   "outputs": [
    {
     "data": {
      "text/plain": [
       "0.053621640619258851"
      ]
     },
     "execution_count": 97,
     "metadata": {},
     "output_type": "execute_result"
    }
   ],
   "source": [
    "phi2"
   ]
  },
  {
   "cell_type": "code",
   "execution_count": 88,
   "metadata": {
    "collapsed": true
   },
   "outputs": [],
   "source": []
  },
  {
   "cell_type": "code",
   "execution_count": null,
   "metadata": {
    "collapsed": true
   },
   "outputs": [],
   "source": []
  }
 ],
 "metadata": {
  "kernelspec": {
   "display_name": "Python 3",
   "language": "python",
   "name": "python3"
  },
  "language_info": {
   "codemirror_mode": {
    "name": "ipython",
    "version": 3
   },
   "file_extension": ".py",
   "mimetype": "text/x-python",
   "name": "python",
   "nbconvert_exporter": "python",
   "pygments_lexer": "ipython3",
   "version": "3.6.1"
  }
 },
 "nbformat": 4,
 "nbformat_minor": 1
}
